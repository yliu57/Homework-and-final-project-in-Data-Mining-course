{
 "cells": [
  {
   "cell_type": "code",
   "execution_count": 58,
   "id": "6575a63c",
   "metadata": {},
   "outputs": [],
   "source": [
    "import pandas as pd\n",
    "import numpy as np\n",
    "import re\n",
    "import random\n",
    "from collections import Counter\n",
    "from sklearn.preprocessing import LabelEncoder\n",
    "from sklearn.preprocessing import OneHotEncoder\n",
    "from sklearn.preprocessing import MinMaxScaler\n",
    "from sklearn.tree import DecisionTreeClassifier\n",
    "from sklearn.ensemble import RandomForestClassifier\n",
    "from sklearn.model_selection import cross_validate\n",
    "from imblearn.over_sampling import RandomOverSampler\n",
    "from imblearn.under_sampling import RandomUnderSampler\n",
    "from sklearn.model_selection import train_test_split\n",
    "from sklearn.metrics import accuracy_score\n",
    "from sklearn.model_selection import GridSearchCV\n",
    "from sklearn.model_selection import cross_validate\n",
    "from sklearn.metrics import confusion_matrix\n",
    "from sklearn.decomposition import PCA\n",
    "from sklearn.metrics import f1_score\n",
    "from sklearn.metrics import accuracy_score\n",
    "from sklearn.metrics import confusion_matrix\n",
    "from sklearn.feature_selection import RFECV"
   ]
  },
  {
   "cell_type": "code",
   "execution_count": 59,
   "id": "e06f76d2",
   "metadata": {},
   "outputs": [],
   "source": [
    "train_file = 'cup98LRN.txt'\n",
    "test_file = 'cup98VAL.txt'\n",
    "\n",
    "train_data = pd.read_csv(train_file, delimiter=',', header=0)\n",
    "test_data = pd.read_csv(test_file, delimiter=',', header=0)\n",
    "train_data = train_data.fillna(train_data.mean())\n",
    "test_data = test_data.fillna(test_data.mean())\n",
    "\n",
    "X = train_data.drop(columns=['TARGET_B','TARGET_D'])\n",
    "y = train_data[['TARGET_B', 'TARGET_D']]\n",
    "y_b = train_data[['TARGET_B']]"
   ]
  },
  {
   "cell_type": "code",
   "execution_count": 60,
   "id": "20c2470d",
   "metadata": {},
   "outputs": [
    {
     "data": {
      "text/html": [
       "<div>\n",
       "<style scoped>\n",
       "    .dataframe tbody tr th:only-of-type {\n",
       "        vertical-align: middle;\n",
       "    }\n",
       "\n",
       "    .dataframe tbody tr th {\n",
       "        vertical-align: top;\n",
       "    }\n",
       "\n",
       "    .dataframe thead th {\n",
       "        text-align: right;\n",
       "    }\n",
       "</style>\n",
       "<table border=\"1\" class=\"dataframe\">\n",
       "  <thead>\n",
       "    <tr style=\"text-align: right;\">\n",
       "      <th></th>\n",
       "      <th>CONTROLN</th>\n",
       "    </tr>\n",
       "  </thead>\n",
       "  <tbody>\n",
       "    <tr>\n",
       "      <th>0</th>\n",
       "      <td>188946</td>\n",
       "    </tr>\n",
       "    <tr>\n",
       "      <th>1</th>\n",
       "      <td>126296</td>\n",
       "    </tr>\n",
       "    <tr>\n",
       "      <th>2</th>\n",
       "      <td>155244</td>\n",
       "    </tr>\n",
       "    <tr>\n",
       "      <th>3</th>\n",
       "      <td>123985</td>\n",
       "    </tr>\n",
       "    <tr>\n",
       "      <th>4</th>\n",
       "      <td>119118</td>\n",
       "    </tr>\n",
       "    <tr>\n",
       "      <th>...</th>\n",
       "      <td>...</td>\n",
       "    </tr>\n",
       "    <tr>\n",
       "      <th>96362</th>\n",
       "      <td>51744</td>\n",
       "    </tr>\n",
       "    <tr>\n",
       "      <th>96363</th>\n",
       "      <td>78942</td>\n",
       "    </tr>\n",
       "    <tr>\n",
       "      <th>96364</th>\n",
       "      <td>82897</td>\n",
       "    </tr>\n",
       "    <tr>\n",
       "      <th>96365</th>\n",
       "      <td>110328</td>\n",
       "    </tr>\n",
       "    <tr>\n",
       "      <th>96366</th>\n",
       "      <td>123497</td>\n",
       "    </tr>\n",
       "  </tbody>\n",
       "</table>\n",
       "<p>96367 rows × 1 columns</p>\n",
       "</div>"
      ],
      "text/plain": [
       "       CONTROLN\n",
       "0        188946\n",
       "1        126296\n",
       "2        155244\n",
       "3        123985\n",
       "4        119118\n",
       "...         ...\n",
       "96362     51744\n",
       "96363     78942\n",
       "96364     82897\n",
       "96365    110328\n",
       "96366    123497\n",
       "\n",
       "[96367 rows x 1 columns]"
      ]
     },
     "execution_count": 60,
     "metadata": {},
     "output_type": "execute_result"
    }
   ],
   "source": [
    "test_data[['CONTROLN']]"
   ]
  },
  {
   "cell_type": "code",
   "execution_count": 61,
   "id": "850ad727",
   "metadata": {},
   "outputs": [
    {
     "name": "stderr",
     "output_type": "stream",
     "text": [
      "C:\\Users\\xueyu\\anaconda3\\lib\\site-packages\\IPython\\core\\interactiveshell.py:3165: DtypeWarning: Columns (8) have mixed types.Specify dtype option on import or set low_memory=False.\n",
      "  has_raised = await self.run_ast_nodes(code_ast.body, cell_name,\n"
     ]
    }
   ],
   "source": [
    "test_col_names = list(test_data)\n",
    "test_data = test_data.sort_values(by='CONTROLN',ascending = True)\n",
    "test_data = test_data.to_numpy()\n",
    "test_data = pd.DataFrame(test_data, columns=test_col_names)\n",
    "test_data.to_csv('./new_test.txt', index=False, header=test_col_names)\n",
    "test_data = pd.read_csv('new_test.txt', delimiter=',', header=0)"
   ]
  },
  {
   "cell_type": "code",
   "execution_count": 62,
   "id": "a8303217",
   "metadata": {},
   "outputs": [
    {
     "data": {
      "text/html": [
       "<div>\n",
       "<style scoped>\n",
       "    .dataframe tbody tr th:only-of-type {\n",
       "        vertical-align: middle;\n",
       "    }\n",
       "\n",
       "    .dataframe tbody tr th {\n",
       "        vertical-align: top;\n",
       "    }\n",
       "\n",
       "    .dataframe thead th {\n",
       "        text-align: right;\n",
       "    }\n",
       "</style>\n",
       "<table border=\"1\" class=\"dataframe\">\n",
       "  <thead>\n",
       "    <tr style=\"text-align: right;\">\n",
       "      <th></th>\n",
       "      <th>CONTROLN</th>\n",
       "    </tr>\n",
       "  </thead>\n",
       "  <tbody>\n",
       "    <tr>\n",
       "      <th>0</th>\n",
       "      <td>3</td>\n",
       "    </tr>\n",
       "    <tr>\n",
       "      <th>1</th>\n",
       "      <td>6</td>\n",
       "    </tr>\n",
       "    <tr>\n",
       "      <th>2</th>\n",
       "      <td>9</td>\n",
       "    </tr>\n",
       "    <tr>\n",
       "      <th>3</th>\n",
       "      <td>11</td>\n",
       "    </tr>\n",
       "    <tr>\n",
       "      <th>4</th>\n",
       "      <td>16</td>\n",
       "    </tr>\n",
       "    <tr>\n",
       "      <th>...</th>\n",
       "      <td>...</td>\n",
       "    </tr>\n",
       "    <tr>\n",
       "      <th>96362</th>\n",
       "      <td>191769</td>\n",
       "    </tr>\n",
       "    <tr>\n",
       "      <th>96363</th>\n",
       "      <td>191771</td>\n",
       "    </tr>\n",
       "    <tr>\n",
       "      <th>96364</th>\n",
       "      <td>191773</td>\n",
       "    </tr>\n",
       "    <tr>\n",
       "      <th>96365</th>\n",
       "      <td>191774</td>\n",
       "    </tr>\n",
       "    <tr>\n",
       "      <th>96366</th>\n",
       "      <td>191776</td>\n",
       "    </tr>\n",
       "  </tbody>\n",
       "</table>\n",
       "<p>96367 rows × 1 columns</p>\n",
       "</div>"
      ],
      "text/plain": [
       "       CONTROLN\n",
       "0             3\n",
       "1             6\n",
       "2             9\n",
       "3            11\n",
       "4            16\n",
       "...         ...\n",
       "96362    191769\n",
       "96363    191771\n",
       "96364    191773\n",
       "96365    191774\n",
       "96366    191776\n",
       "\n",
       "[96367 rows x 1 columns]"
      ]
     },
     "execution_count": 62,
     "metadata": {},
     "output_type": "execute_result"
    }
   ],
   "source": [
    "test_data[['CONTROLN']]"
   ]
  },
  {
   "cell_type": "code",
   "execution_count": 63,
   "id": "5ee8b9a2",
   "metadata": {},
   "outputs": [],
   "source": [
    "y_d = train_data[[ 'TARGET_D']]"
   ]
  },
  {
   "cell_type": "code",
   "execution_count": 64,
   "id": "ee1afcfb",
   "metadata": {
    "scrolled": false
   },
   "outputs": [],
   "source": [
    "y_d_drop = y_d\n",
    "y_d_drop = np.array(y_d_drop)\n",
    "y_d_drop_list = []\n",
    "for i in range(len(y_d_drop)):\n",
    "    if y_d_drop[i][0] != 0:\n",
    "        y_d_drop_list.append([i,y_d_drop[i][0]])\n",
    "\n",
    "index_donation = pd.DataFrame(y_d_drop_list,columns=['index', 'donation'])\n",
    "# print(index_donation)\n",
    "# print(\"-------------------------------------------------------\")\n",
    "index_donation_rows = index_donation.shape[0]\n",
    "top_10percent = int(0.1 * index_donation_rows)\n",
    "index_donation_sort = index_donation.sort_values(by='donation',ascending = False).head(top_10percent)\n",
    "# print(index_donation_sort)\n",
    "# print(\"-------------------------------------------------------\")\n",
    "index = index_donation_sort['index']\n",
    "index = np.array(index)\n",
    "# print(index)\n",
    "# print(\"-------------------------------------------------------\")\n",
    "high_value_donation = []\n",
    "for i in range(y_d.shape[0]):\n",
    "    if i not in index:\n",
    "        high_value_donation.append([0])\n",
    "    else:\n",
    "        high_value_donation.append([1])\n",
    "high_value_donation_pd = pd.DataFrame(high_value_donation,columns=['TARGET_D_0/1'])\n",
    "high_value_donation_pd.to_csv('high_value_donation_pd.csv', index=False, header=None)\n",
    "# high_value_donation_pd"
   ]
  },
  {
   "cell_type": "code",
   "execution_count": 65,
   "id": "273a001a",
   "metadata": {
    "scrolled": false
   },
   "outputs": [],
   "source": [
    "# y_d_rows = y_d.shape[0]\n",
    "# top_1percent = int(0.01 * y_d_rows)\n",
    "# y_d_sort = y_d.sort_values(by='TARGET_D',ascending = False).head(top_1percent)\n",
    "# y_d_sort"
   ]
  },
  {
   "cell_type": "code",
   "execution_count": 66,
   "id": "6155af7f",
   "metadata": {},
   "outputs": [],
   "source": [
    "# y_b.shape"
   ]
  },
  {
   "cell_type": "code",
   "execution_count": 67,
   "id": "6266655d",
   "metadata": {},
   "outputs": [],
   "source": [
    "# oversample = RandomOverSampler()\n",
    "# X_resample, y_resample = oversample.fit_resample(X, y_b)"
   ]
  },
  {
   "cell_type": "code",
   "execution_count": 68,
   "id": "f5763985",
   "metadata": {},
   "outputs": [],
   "source": [
    "oversample = RandomOverSampler()\n",
    "X_resample, y_resample = oversample.fit_resample(X, y_b)\n",
    "oversample1 = RandomOverSampler()\n",
    "X_resample_high, y_resample_high = oversample1.fit_resample(X, high_value_donation_pd)"
   ]
  },
  {
   "cell_type": "code",
   "execution_count": 69,
   "id": "e96518c5",
   "metadata": {},
   "outputs": [],
   "source": [
    "y_resample = np.reshape(y_resample.to_numpy(), y_resample.shape[0])\n",
    "y_resample_high = np.reshape(y_resample_high.to_numpy(), y_resample_high.shape[0])"
   ]
  },
  {
   "cell_type": "code",
   "execution_count": 70,
   "id": "f0d845d7",
   "metadata": {},
   "outputs": [
    {
     "data": {
      "text/plain": [
       "(95412, 1)"
      ]
     },
     "execution_count": 70,
     "metadata": {},
     "output_type": "execute_result"
    }
   ],
   "source": [
    "y_b.shape"
   ]
  },
  {
   "cell_type": "code",
   "execution_count": 71,
   "id": "6cffd34b",
   "metadata": {},
   "outputs": [],
   "source": [
    "# X_resample"
   ]
  },
  {
   "cell_type": "code",
   "execution_count": 72,
   "id": "c47f4c91",
   "metadata": {},
   "outputs": [],
   "source": [
    "# y_resample.describe()"
   ]
  },
  {
   "cell_type": "code",
   "execution_count": 73,
   "id": "5895254a",
   "metadata": {},
   "outputs": [],
   "source": [
    "# CONTROLN = X['CONTROLN']\n",
    "# CONTROLN = CONTROLN.sort_values()\n",
    "# CONTROLN.head(50)"
   ]
  },
  {
   "cell_type": "code",
   "execution_count": 74,
   "id": "ffc18ddf",
   "metadata": {},
   "outputs": [],
   "source": [
    "# X.describe()"
   ]
  },
  {
   "cell_type": "code",
   "execution_count": 75,
   "id": "dce69269",
   "metadata": {},
   "outputs": [],
   "source": [
    "# y.describe()"
   ]
  },
  {
   "cell_type": "code",
   "execution_count": 76,
   "id": "73486a82",
   "metadata": {},
   "outputs": [],
   "source": [
    "# # people who donated\n",
    "# y_resample_b1 = y_resample.loc[(y_resample['TARGET_B'] == 1.0)]"
   ]
  },
  {
   "cell_type": "code",
   "execution_count": 77,
   "id": "faa82fda",
   "metadata": {},
   "outputs": [],
   "source": [
    "# y_resample_b1.describe()"
   ]
  },
  {
   "cell_type": "code",
   "execution_count": 78,
   "id": "d7d88ab7",
   "metadata": {},
   "outputs": [],
   "source": [
    "# # People who donate more than average amount\n",
    "# y_d1 = y.loc[(y['TARGET_D'] > 15)]"
   ]
  },
  {
   "cell_type": "code",
   "execution_count": 79,
   "id": "4c55532c",
   "metadata": {},
   "outputs": [],
   "source": [
    "# y_d1.describe()"
   ]
  },
  {
   "cell_type": "code",
   "execution_count": 80,
   "id": "fc92f95a",
   "metadata": {},
   "outputs": [],
   "source": [
    "X_resample = X_resample.drop(columns=['CONTROLN'])\n",
    "test_data = test_data.drop(columns=['CONTROLN'])\n",
    "X_resample_high = X_resample_high.drop(columns=['CONTROLN'])"
   ]
  },
  {
   "cell_type": "code",
   "execution_count": 81,
   "id": "6dcc6ea6",
   "metadata": {},
   "outputs": [],
   "source": [
    "# test_data.head()"
   ]
  },
  {
   "cell_type": "code",
   "execution_count": 82,
   "id": "afe0deba",
   "metadata": {},
   "outputs": [],
   "source": [
    "X_features = X_resample.select_dtypes(include='object')\n",
    "test_features = test_data.select_dtypes(include='object')\n",
    "X_features_high = X_resample_high.select_dtypes(include='object')\n",
    "# features = features.to_string()\n",
    "# features = features.applymap(str)\n",
    "# feature_labels = list(features)\n",
    "# feature_labels.remove('ZIP')"
   ]
  },
  {
   "cell_type": "code",
   "execution_count": 83,
   "id": "1eea7d30",
   "metadata": {},
   "outputs": [],
   "source": [
    "# features[['NOEXCH']].values"
   ]
  },
  {
   "cell_type": "code",
   "execution_count": 84,
   "id": "4f1e0691",
   "metadata": {},
   "outputs": [],
   "source": [
    "# X_resample[['NOEXCH']].to_numpy()"
   ]
  },
  {
   "cell_type": "code",
   "execution_count": 85,
   "id": "f3fed7b9",
   "metadata": {},
   "outputs": [],
   "source": [
    "X_features = X_features.applymap(str)\n",
    "test_features =test_features.applymap(str)\n",
    "\n",
    "X_features_high = X_features_high.applymap(str)"
   ]
  },
  {
   "cell_type": "code",
   "execution_count": 87,
   "id": "383852f1",
   "metadata": {},
   "outputs": [
    {
     "data": {
      "text/plain": [
       "(96367, 74)"
      ]
     },
     "execution_count": 87,
     "metadata": {},
     "output_type": "execute_result"
    }
   ],
   "source": [
    "test_features.shape"
   ]
  },
  {
   "cell_type": "code",
   "execution_count": 88,
   "id": "c2510e05",
   "metadata": {},
   "outputs": [],
   "source": [
    "X_features['NOEXCH'] = X_features['NOEXCH'].replace('X', '1')\n",
    "test_features['NOEXCH'] = test_features['NOEXCH'].replace('X', '1')\n",
    "X_features_high['NOEXCH'] = X_features_high['NOEXCH'].replace('X', '1')\n",
    "# dup_test_features = test_features"
   ]
  },
  {
   "cell_type": "code",
   "execution_count": 89,
   "id": "fc4485e7",
   "metadata": {},
   "outputs": [],
   "source": [
    "# X_features.head()"
   ]
  },
  {
   "cell_type": "code",
   "execution_count": 90,
   "id": "cf723331",
   "metadata": {},
   "outputs": [],
   "source": [
    "feature_labels = list(X_features)\n",
    "feature_labels.remove('ZIP')"
   ]
  },
  {
   "cell_type": "code",
   "execution_count": 91,
   "id": "c1e699e3",
   "metadata": {
    "scrolled": true
   },
   "outputs": [],
   "source": [
    "# np.set_printoptions(threshold=np.inf)\n",
    "# features[['NOEXCH']].to_numpy()\n"
   ]
  },
  {
   "cell_type": "code",
   "execution_count": 92,
   "id": "2778a662",
   "metadata": {},
   "outputs": [],
   "source": [
    "# features[['NOEXCH']].to_numpy()\n",
    "# count = 0\n",
    "# for i in features[['NOEXCH']].to_numpy():\n",
    "#     if len(i) != 1:\n",
    "#         print(i)\n",
    "#     else:\n",
    "#         count += 1\n",
    "# print(count)\n",
    "# print(len(features[['NOEXCH']].to_numpy()))"
   ]
  },
  {
   "cell_type": "code",
   "execution_count": 93,
   "id": "51fb7771",
   "metadata": {},
   "outputs": [],
   "source": [
    "# nominal_labels = []\n",
    "# for i in range(200):\n",
    "#     nominal_labels.append(feature_labels[i])"
   ]
  },
  {
   "cell_type": "code",
   "execution_count": 94,
   "id": "0f420050",
   "metadata": {},
   "outputs": [
    {
     "name": "stdout",
     "output_type": "stream",
     "text": [
      "73\n"
     ]
    }
   ],
   "source": [
    "print(len(feature_labels))"
   ]
  },
  {
   "cell_type": "code",
   "execution_count": 95,
   "id": "eb15b90f",
   "metadata": {},
   "outputs": [],
   "source": [
    "# pd.options.display.max_rows = None\n",
    "# X_resample[['NOEXCH']].values"
   ]
  },
  {
   "cell_type": "code",
   "execution_count": 96,
   "id": "7c612558",
   "metadata": {},
   "outputs": [],
   "source": [
    "# X_resample['NOEXCH'] = X_resample.to_string(X_resample['NOEXCH'])"
   ]
  },
  {
   "cell_type": "code",
   "execution_count": 97,
   "id": "75be548c",
   "metadata": {},
   "outputs": [],
   "source": [
    "# ordinal_labels = ['ODATEDW', 'ZIP',, 'DOB', '']"
   ]
  },
  {
   "cell_type": "code",
   "execution_count": 98,
   "id": "1619c86e",
   "metadata": {
    "scrolled": false
   },
   "outputs": [],
   "source": [
    "# # show all columns\n",
    "# pd.options.display.max_columns = None\n",
    "# X.head(20)"
   ]
  },
  {
   "cell_type": "code",
   "execution_count": 99,
   "id": "d3421937",
   "metadata": {},
   "outputs": [],
   "source": [
    "# nominal_labels = ['OSOURCE', 'STATE', 'ZIP', 'MAILCODE', 'PVASTATE', 'DOB', 'RECINHSE', 'RECP3']"
   ]
  },
  {
   "cell_type": "code",
   "execution_count": 100,
   "id": "d555b264",
   "metadata": {},
   "outputs": [],
   "source": [
    "# X_features['ZIP'].head()"
   ]
  },
  {
   "cell_type": "code",
   "execution_count": 101,
   "id": "8836f3ac",
   "metadata": {},
   "outputs": [],
   "source": [
    "# def categoricalHandler(train_nom, test_nom, column):\n",
    "#     le = LabelEncoder()\n",
    "#     labels = pd.concat([train_nom[f'{column}'], test_nom[f'{column}']], axis=0)\n",
    "#     le.fit(labels)\n",
    "#     train_nom[f'{column}'] = le.transform(train_nom[f'{column}'])\n",
    "#     test_nom[f'{column}'] = le.transform(test_nom[f'{column}'])\n",
    "\n",
    "#     ohe = OneHotEncoder()\n",
    "#     labels = pd.concat([train_nom[[f'{column}']], test_nom[[f'{column}']]], axis=0)\n",
    "#     ohe.fit(labels)\n",
    "#     train_feature_arr = ohe.transform(train_nom[[f'{column}']]).toarray()\n",
    "#     test_feature_arr = ohe.transform(test_nom[[f'{column}']]).toarray()\n",
    "#     _feature_labels = list(le.classes_)\n",
    "\n",
    "#     train_features = pd.DataFrame(train_feature_arr, columns=_feature_labels)\n",
    "#     test_features = pd.DataFrame(test_feature_arr, columns=_feature_labels)\n",
    "    \n",
    "#     train_nom = pd.concat([train_nom, train_features], axis=1)\n",
    "#     train_nom = train_nom.drop(columns = f'{column}')\n",
    "    \n",
    "#     test_nom = pd.concat([test_nom, test_features], axis=1)\n",
    "#     test_nom = test_nom.drop(columns = f'{column}')\n",
    "\n",
    "#     return train_nom, test_nom"
   ]
  },
  {
   "cell_type": "code",
   "execution_count": 102,
   "id": "e57e3489",
   "metadata": {},
   "outputs": [],
   "source": [
    "def categoricalHandler(train_nom, X_high, test_nom, column):\n",
    "    le = LabelEncoder()\n",
    "    labels = pd.concat([train_nom[f'{column}'], test_nom[f'{column}']], axis=0)\n",
    "    le.fit(labels)\n",
    "    train_nom[f'{column}'] = le.transform(train_nom[f'{column}'])\n",
    "    test_nom[f'{column}'] = le.transform(test_nom[f'{column}'])\n",
    "    X_high[f'{column}'] = le.transform(X_high[f'{column}']) #\n",
    "\n",
    "    ohe = OneHotEncoder()\n",
    "    labels = pd.concat([train_nom[[f'{column}']], test_nom[[f'{column}']]], axis=0)\n",
    "    ohe.fit(labels)\n",
    "    train_feature_arr = ohe.transform(train_nom[[f'{column}']]).toarray()\n",
    "    X_high_arr = ohe.transform(X_high[[f'{column}']]).toarray()\n",
    "    test_feature_arr = ohe.transform(test_nom[[f'{column}']]).toarray() #\n",
    "    _feature_labels = list(le.classes_)\n",
    "\n",
    "    train_features = pd.DataFrame(train_feature_arr, columns=_feature_labels)\n",
    "    test_features = pd.DataFrame(test_feature_arr, columns=_feature_labels)\n",
    "    high_features = pd.DataFrame(X_high_arr, columns=_feature_labels) #\n",
    "    \n",
    "    train_nom = pd.concat([train_nom, train_features], axis=1)\n",
    "    train_nom = train_nom.drop(columns = f'{column}')\n",
    "    \n",
    "    test_nom = pd.concat([test_nom, test_features], axis=1)\n",
    "    test_nom = test_nom.drop(columns = f'{column}')\n",
    "    \n",
    "    X_high = pd.concat([X_high, high_features], axis=1)\n",
    "    X_high = X_high.drop(columns = f'{column}')\n",
    "\n",
    "    return train_nom, X_high, test_nom"
   ]
  },
  {
   "cell_type": "code",
   "execution_count": 103,
   "id": "21f4aa6a",
   "metadata": {},
   "outputs": [],
   "source": [
    "for label in feature_labels:\n",
    "    X_features, X_features_high, test_features = categoricalHandler(X_features, X_features_high, test_features, label)"
   ]
  },
  {
   "cell_type": "code",
   "execution_count": 104,
   "id": "5385a659",
   "metadata": {},
   "outputs": [],
   "source": [
    "# X_features_high.head()"
   ]
  },
  {
   "cell_type": "code",
   "execution_count": 105,
   "id": "20a244ab",
   "metadata": {},
   "outputs": [],
   "source": [
    "# X_features.head()"
   ]
  },
  {
   "cell_type": "code",
   "execution_count": 106,
   "id": "b6ad06e3",
   "metadata": {},
   "outputs": [],
   "source": [
    "X_ZIP = X_features[['ZIP']]\n",
    "X_features = X_features.drop(columns=['ZIP'])\n",
    "test_ZIP = test_features[['ZIP']]\n",
    "test_features = test_features.drop(columns=['ZIP'])\n",
    "X_ZIP_high = X_features_high[['ZIP']]\n",
    "X_features_high = X_features_high.drop(columns=['ZIP'])"
   ]
  },
  {
   "cell_type": "code",
   "execution_count": 107,
   "id": "cacb9cea",
   "metadata": {},
   "outputs": [],
   "source": [
    "X_arr = np.array(X_features)\n",
    "test_arr = np.array(test_features)\n",
    "X_arr_high = np.array(X_features_high)"
   ]
  },
  {
   "cell_type": "code",
   "execution_count": 108,
   "id": "66fb0949",
   "metadata": {},
   "outputs": [],
   "source": [
    "def dimensionReduce(arr):\n",
    "    pca = PCA(n_components = 0.9)\n",
    "    pca.fit(arr)\n",
    "    _arr = pca.transform(arr)\n",
    "    return _arr"
   ]
  },
  {
   "cell_type": "code",
   "execution_count": 109,
   "id": "63faac89",
   "metadata": {},
   "outputs": [],
   "source": [
    "# X_arr = pd.DataFrame(X_arr)\n",
    "# X_arr_fillna = X_arr.fillna(X_arr.mean())\n",
    "# test_arr = pd.DataFrame(test_arr)\n",
    "# test_arr_fillna = test_arr.fillna(test_arr.mean())\n",
    "\n",
    "# X_arr_high = pd.DataFrame(X_arr_high)\n",
    "# X_arr_high_fillna = X_arr_high.fillna(X_arr_high.mean())"
   ]
  },
  {
   "cell_type": "code",
   "execution_count": 110,
   "id": "c1b9c6d5",
   "metadata": {
    "scrolled": false
   },
   "outputs": [],
   "source": [
    "# rfc1 = RandomForestClassifier(max_depth=10, min_samples_leaf=2, min_samples_split=2, random_state=42)\n",
    "# selector1 = RFECV(estimator= rfc1, step=1, cv=5, scoring = 'f1')\n",
    "# X_arr = selector1.fit_transform(X_arr, y_resample)\n",
    "# test_arr = selector1.transform(test_arr)"
   ]
  },
  {
   "cell_type": "code",
   "execution_count": 111,
   "id": "1fd7cf72",
   "metadata": {},
   "outputs": [],
   "source": [
    "# rfc2 = RandomForestClassifier(max_depth=4, min_samples_leaf=1, min_samples_split=2, random_state=42)\n",
    "# selector2 = RFECV(estimator= rfc2, step=1, cv=5, scoring = 'f1')\n",
    "# X_arr_high = selector2.fit_transform(X_arr_high, y_resample_high)"
   ]
  },
  {
   "cell_type": "code",
   "execution_count": 112,
   "id": "8df2fa80",
   "metadata": {},
   "outputs": [],
   "source": [
    "X_arr = dimensionReduce(X_arr)\n",
    "test_arr = dimensionReduce(test_arr)\n",
    "X_arr_high = dimensionReduce(X_arr_high)"
   ]
  },
  {
   "cell_type": "code",
   "execution_count": 113,
   "id": "3018f98b",
   "metadata": {},
   "outputs": [],
   "source": [
    "X_features = pd.DataFrame(X_arr)\n",
    "test_features = pd.DataFrame(test_arr)\n",
    "X_features_high = pd.DataFrame(X_arr_high)"
   ]
  },
  {
   "cell_type": "code",
   "execution_count": 114,
   "id": "2148e14a",
   "metadata": {},
   "outputs": [],
   "source": [
    "def cleanZip(zip):\n",
    "    z_arr = np.array(zip)\n",
    "    for z in z_arr:\n",
    "        z[0] = re.sub('-', '', z[0])\n",
    "    _zip = pd.DataFrame(z_arr, columns=['ZIP'])\n",
    "    return _zip"
   ]
  },
  {
   "cell_type": "code",
   "execution_count": 115,
   "id": "f14b14b4",
   "metadata": {},
   "outputs": [],
   "source": [
    "X_ZIP = cleanZip(X_ZIP)\n",
    "test_ZIP = cleanZip(test_ZIP)\n",
    "X_ZIP_high = cleanZip(X_ZIP_high)"
   ]
  },
  {
   "cell_type": "code",
   "execution_count": 116,
   "id": "ac5cda80",
   "metadata": {},
   "outputs": [],
   "source": [
    "X_ZIP = np.array(X_ZIP)\n",
    "test_ZIP = np.array(test_ZIP)\n",
    "X_ZIP = np.reshape(X_ZIP, len(X_ZIP))\n",
    "test_ZIP = np.reshape(test_ZIP, len(test_ZIP))\n",
    "X_ZIP = pd.to_numeric(X_ZIP)\n",
    "test_ZIP = pd.to_numeric(test_ZIP)\n",
    "X_ZIP = np.reshape(X_ZIP, (len(X_ZIP), 1))\n",
    "test_ZIP = np.reshape(test_ZIP, (len(test_ZIP), 1))\n",
    "X_ZIP = pd.DataFrame(X_ZIP)\n",
    "test_ZIP = pd.DataFrame(test_ZIP)\n",
    "\n",
    "X_ZIP_high = np.array(X_ZIP_high)\n",
    "X_ZIP_high = np.reshape(X_ZIP_high, len(X_ZIP_high))\n",
    "X_ZIP_high = pd.to_numeric(X_ZIP_high)\n",
    "X_ZIP_high = np.reshape(X_ZIP_high, (len(X_ZIP_high), 1))\n",
    "X_ZIP_high = pd.DataFrame(X_ZIP_high)"
   ]
  },
  {
   "cell_type": "code",
   "execution_count": 117,
   "id": "e65524cd",
   "metadata": {},
   "outputs": [
    {
     "data": {
      "text/plain": [
       "(181138, 1)"
      ]
     },
     "execution_count": 117,
     "metadata": {},
     "output_type": "execute_result"
    }
   ],
   "source": [
    "X_ZIP.shape"
   ]
  },
  {
   "cell_type": "code",
   "execution_count": 118,
   "id": "ea1b7c86",
   "metadata": {},
   "outputs": [],
   "source": [
    "X_features = pd.concat([X_ZIP, X_features], axis=1)\n",
    "test_features = pd.concat([test_ZIP, test_features], axis=1)\n",
    "X_features_high = pd.concat([X_ZIP_high, X_features_high], axis=1)"
   ]
  },
  {
   "cell_type": "code",
   "execution_count": 119,
   "id": "c9ca63e2",
   "metadata": {},
   "outputs": [
    {
     "data": {
      "text/plain": [
       "(181138, 413)"
      ]
     },
     "execution_count": 119,
     "metadata": {},
     "output_type": "execute_result"
    }
   ],
   "source": [
    "X_features.shape"
   ]
  },
  {
   "cell_type": "code",
   "execution_count": 120,
   "id": "e934bef5",
   "metadata": {},
   "outputs": [],
   "source": [
    "feature_labels.append('ZIP')\n",
    "X_resample = X_resample.drop(columns=feature_labels)\n",
    "test_data = test_data.drop(columns=feature_labels)\n",
    "X_resample = pd.concat([X_resample, X_features], axis=1)\n",
    "test_data = pd.concat([test_data, test_features], axis=1)\n",
    "\n",
    "X_resample_high = X_resample_high.drop(columns=feature_labels)\n",
    "X_resample_high = pd.concat([X_resample_high, X_features_high], axis=1)"
   ]
  },
  {
   "cell_type": "code",
   "execution_count": 121,
   "id": "d79f260d",
   "metadata": {},
   "outputs": [
    {
     "data": {
      "text/plain": [
       "(181138, 817)"
      ]
     },
     "execution_count": 121,
     "metadata": {},
     "output_type": "execute_result"
    }
   ],
   "source": [
    "X_resample.shape"
   ]
  },
  {
   "cell_type": "code",
   "execution_count": null,
   "id": "b4379dfc",
   "metadata": {},
   "outputs": [],
   "source": []
  },
  {
   "cell_type": "code",
   "execution_count": 122,
   "id": "98493ac5",
   "metadata": {},
   "outputs": [],
   "source": [
    "X_arr = np.array(X_resample)\n",
    "test_arr = np.array(test_data)\n",
    "X_arr_high = np.array(X_resample_high)"
   ]
  },
  {
   "cell_type": "code",
   "execution_count": 123,
   "id": "f3109374",
   "metadata": {},
   "outputs": [],
   "source": [
    "# X_arr = pd.DataFrame(X_arr)\n",
    "# X_arr_fillna = X_arr.fillna(X_arr.mean())\n",
    "# test_arr = pd.DataFrame(test_arr)\n",
    "# test_arr_fillna = test_arr.fillna(test_arr.mean())\n",
    "\n",
    "# X_arr_high = pd.DataFrame(X_arr_high)\n",
    "# X_arr_high_fillna = X_arr_high.fillna(X_arr_high.mean())"
   ]
  },
  {
   "cell_type": "code",
   "execution_count": 124,
   "id": "0119df20",
   "metadata": {},
   "outputs": [],
   "source": [
    "# X_arr = selector1.fit_transform(X_arr, y_resample)\n",
    "# test_arr = selector1.transform(test_arr)\n",
    "# X_arr_high = selector2.fit_transform(X_arr_high, y_resample_high)"
   ]
  },
  {
   "cell_type": "code",
   "execution_count": 125,
   "id": "02f4bddf",
   "metadata": {},
   "outputs": [],
   "source": [
    "# clean NaN values before continuing\n",
    "X_arr = dimensionReduce(X_arr)\n",
    "test_arr = dimensionReduce(test_arr)\n",
    "X_arr_high = dimensionReduce(X_arr_high)"
   ]
  },
  {
   "cell_type": "code",
   "execution_count": 126,
   "id": "eab1ad7a",
   "metadata": {},
   "outputs": [],
   "source": [
    "X_resample = pd.DataFrame(X_arr)\n",
    "test_data = pd.DataFrame(test_arr)\n",
    "X_resample_high = pd.DataFrame(X_arr_high)"
   ]
  },
  {
   "cell_type": "code",
   "execution_count": 127,
   "id": "359ed948",
   "metadata": {},
   "outputs": [],
   "source": [
    "# X_resample.head()"
   ]
  },
  {
   "cell_type": "code",
   "execution_count": 128,
   "id": "f8b94514",
   "metadata": {},
   "outputs": [],
   "source": [
    "# X_resample['ZIP'].head()"
   ]
  },
  {
   "cell_type": "code",
   "execution_count": 129,
   "id": "221ad568",
   "metadata": {},
   "outputs": [
    {
     "data": {
      "text/plain": [
       "(181138, 2)"
      ]
     },
     "execution_count": 129,
     "metadata": {},
     "output_type": "execute_result"
    }
   ],
   "source": [
    "X_resample.shape"
   ]
  },
  {
   "cell_type": "code",
   "execution_count": 130,
   "id": "824bea59",
   "metadata": {},
   "outputs": [],
   "source": [
    "# test_data.head()"
   ]
  },
  {
   "cell_type": "code",
   "execution_count": 131,
   "id": "aa313049",
   "metadata": {},
   "outputs": [
    {
     "data": {
      "text/plain": [
       "(96367, 2)"
      ]
     },
     "execution_count": 131,
     "metadata": {},
     "output_type": "execute_result"
    }
   ],
   "source": [
    "test_data.shape"
   ]
  },
  {
   "cell_type": "code",
   "execution_count": 132,
   "id": "7a312a16",
   "metadata": {},
   "outputs": [],
   "source": [
    "# y_resample = np.reshape(y_resample.to_numpy(), y_resample.shape[0])\n",
    "# y_resample_high = np.reshape(y_resample_high.to_numpy(), y_resample_high.shape[0])"
   ]
  },
  {
   "cell_type": "code",
   "execution_count": 133,
   "id": "dce1880d",
   "metadata": {},
   "outputs": [
    {
     "data": {
      "text/plain": [
       "(181138,)"
      ]
     },
     "execution_count": 133,
     "metadata": {},
     "output_type": "execute_result"
    }
   ],
   "source": [
    "y_resample.shape"
   ]
  },
  {
   "cell_type": "code",
   "execution_count": 134,
   "id": "7b6bb48c",
   "metadata": {},
   "outputs": [],
   "source": [
    "# X_train, X_test, y_train, y_test = train_test_split(X_resample, y_resample, test_size = 0.2, random_state=42)"
   ]
  },
  {
   "cell_type": "code",
   "execution_count": 135,
   "id": "7053b7c8",
   "metadata": {},
   "outputs": [],
   "source": [
    "# RF = RandomForestClassifier(random_state=42)\n",
    "# tune_array_1_10 = list(range(1,11))\n",
    "# tune_array_2_5 = list(range(2,6))\n",
    "# tune_array_1_10 = list(range(1,11))\n",
    "# # use GridSearch to do hypeparameter tuning in order to get the best model\n",
    "# parameters = { 'max_depth':tune_array_1_10,'min_samples_leaf':tune_array_1_10,'min_samples_split':tune_array_2_5  }\n",
    "\n",
    "# clf = GridSearchCV(estimator = RF, param_grid = parameters, scoring = 'f1', cv = 5, return_train_score = True, n_jobs=-1)\n",
    "# clf.fit(X_train, y_train)\n",
    "# print(\"best parameters are \", clf.best_params_)\n",
    "# label_predict = clf.predict(X_test)\n",
    "# print(\"length of label_predict:\",len(label_predict))\n",
    "# print(\"f1 score (average = None) :\", f1_score(y_test, label_predict, average=None))\n",
    "# print(\"f1 score (average = macro) :\", f1_score(y_test, label_predict, average='macro'))\n",
    "# print(\"accuracy_score:\", accuracy_score(y_test, label_predict))\n",
    "# print(\"confusion_matrix:\\n\", confusion_matrix(y_test, label_predict))"
   ]
  },
  {
   "cell_type": "code",
   "execution_count": 136,
   "id": "163ad1f1",
   "metadata": {},
   "outputs": [],
   "source": [
    "rfc1 = RandomForestClassifier(max_depth=10, min_samples_leaf=2, min_samples_split=2, random_state=42)\n",
    "# rfc = DecisionTreeClassifier(random_state=42)"
   ]
  },
  {
   "cell_type": "code",
   "execution_count": 137,
   "id": "49f8b81c",
   "metadata": {},
   "outputs": [
    {
     "data": {
      "text/plain": [
       "{'fit_time': array([11.05424619, 10.78012872, 10.928298  , 10.81279278, 10.8372488 ]),\n",
       " 'score_time': array([0.20649314, 0.20984054, 0.19801116, 0.19865584, 0.19010448]),\n",
       " 'test_score': array([0.65456391, 0.62915352, 0.63167509, 0.63750426, 0.64299563])}"
      ]
     },
     "execution_count": 137,
     "metadata": {},
     "output_type": "execute_result"
    }
   ],
   "source": [
    "score = cross_validate(rfc1, X_resample, y_resample, scoring = 'f1')\n",
    "score"
   ]
  },
  {
   "cell_type": "code",
   "execution_count": 138,
   "id": "f7e8494f",
   "metadata": {},
   "outputs": [
    {
     "data": {
      "text/plain": [
       "(96367, 2)"
      ]
     },
     "execution_count": 138,
     "metadata": {},
     "output_type": "execute_result"
    }
   ],
   "source": [
    "test_data.shape"
   ]
  },
  {
   "cell_type": "code",
   "execution_count": 140,
   "id": "28c19280",
   "metadata": {},
   "outputs": [],
   "source": [
    "# test_data = test_data.drop(columns=2)"
   ]
  },
  {
   "cell_type": "code",
   "execution_count": 141,
   "id": "a2ca93ea",
   "metadata": {},
   "outputs": [],
   "source": [
    "rfc1.fit(X_resample, y_resample)\n",
    "predictions_all = rfc1.predict(test_data)"
   ]
  },
  {
   "cell_type": "code",
   "execution_count": 142,
   "id": "09c40217",
   "metadata": {},
   "outputs": [],
   "source": [
    "# X_train, X_test, y_train, y_test = train_test_split(X_resample_high, y_resample_high, test_size = 0.2, random_state=42)\n",
    "# RF = RandomForestClassifier(random_state=42)\n",
    "# tune_array_1_10 = list(range(1,11))\n",
    "# tune_array_2_5 = list(range(2,5))\n",
    "# tune_array_1_10 = list(range(1,5))\n",
    "# # use GridSearch to do hypeparameter tuning in order to get the best model\n",
    "# parameters = { 'max_depth':tune_array_1_10,'min_samples_leaf':tune_array_1_10,'min_samples_split':tune_array_2_5  }\n",
    "\n",
    "# clf = GridSearchCV(estimator = RF, param_grid = parameters, scoring = 'f1', cv = 5, return_train_score = True, n_jobs=-1)\n",
    "# clf.fit(X_train, y_train)\n",
    "# print(\"best parameters are \", clf.best_params_)\n",
    "# label_predict = clf.predict(X_test)\n",
    "# print(\"length of label_predict:\",len(label_predict))\n",
    "# print(\"f1 score (average = None) :\", f1_score(y_test, label_predict, average=None))\n",
    "# print(\"f1 score (average = macro) :\", f1_score(y_test, label_predict, average='macro'))\n",
    "# print(\"accuracy_score:\", accuracy_score(y_test, label_predict))\n",
    "# print(\"confusion_matrix:\\n\", confusion_matrix(y_test, label_predict))"
   ]
  },
  {
   "cell_type": "code",
   "execution_count": 143,
   "id": "bbf19894",
   "metadata": {},
   "outputs": [
    {
     "data": {
      "text/plain": [
       "{'fit_time': array([4.90511513, 5.10585165, 4.94105673, 5.03401041, 4.91491485]),\n",
       " 'score_time': array([0.14803386, 0.15903616, 0.14903641, 0.15003419, 0.15403557]),\n",
       " 'test_score': array([0.6312698 , 0.630361  , 0.63174279, 0.62941958, 0.64044431])}"
      ]
     },
     "execution_count": 143,
     "metadata": {},
     "output_type": "execute_result"
    }
   ],
   "source": [
    "rfc2 = RandomForestClassifier(max_depth=4, min_samples_leaf=1, min_samples_split=2, random_state=42)\n",
    "score = cross_validate(rfc2, X_resample_high, y_resample_high, scoring = 'f1')\n",
    "score"
   ]
  },
  {
   "cell_type": "code",
   "execution_count": 144,
   "id": "51551ce0",
   "metadata": {},
   "outputs": [],
   "source": [
    "rfc2.fit(X_resample_high, y_resample_high)\n",
    "predictions_high = rfc2.predict(test_data)"
   ]
  },
  {
   "cell_type": "code",
   "execution_count": 234,
   "id": "9b35a5b6",
   "metadata": {},
   "outputs": [],
   "source": [
    "count_both = 0\n",
    "count_high = 0\n",
    "count_all = 0\n",
    "predictions_final = []\n",
    "prob = 0.8\n",
    "for i in range(len(predictions_all)):\n",
    "    if predictions_all[i]==1:\n",
    "        predictions_final.append('1')\n",
    "        count_both += 1\n",
    "#     if prz\n",
    "#             count_high += 1\n",
    "#     elif predictions_all[i]==1 and random.random()>=prob:\n",
    "#             predictions_final.append('1')\n",
    "#             count_all += 1\n",
    "    else:\n",
    "        predictions_final.append('0')"
   ]
  },
  {
   "cell_type": "code",
   "execution_count": 235,
   "id": "b8c656a9",
   "metadata": {},
   "outputs": [
    {
     "name": "stdout",
     "output_type": "stream",
     "text": [
      "count_both 32469\n"
     ]
    }
   ],
   "source": [
    "print(\"count_both\", count_both)"
   ]
  },
  {
   "cell_type": "code",
   "execution_count": 236,
   "id": "99c3a4a3",
   "metadata": {},
   "outputs": [
    {
     "name": "stdout",
     "output_type": "stream",
     "text": [
      "count_high 0\n"
     ]
    }
   ],
   "source": [
    "print(\"count_high\", count_high)"
   ]
  },
  {
   "cell_type": "code",
   "execution_count": 237,
   "id": "8141f63a",
   "metadata": {},
   "outputs": [
    {
     "name": "stdout",
     "output_type": "stream",
     "text": [
      "count_all 0\n"
     ]
    }
   ],
   "source": [
    "print(\"count_all\", count_all)"
   ]
  },
  {
   "cell_type": "code",
   "execution_count": 238,
   "id": "15591116",
   "metadata": {},
   "outputs": [],
   "source": [
    "# predictions_final"
   ]
  },
  {
   "cell_type": "code",
   "execution_count": 239,
   "id": "fa7cd924",
   "metadata": {},
   "outputs": [],
   "source": [
    "predictions_final = pd.DataFrame(predictions_final,columns=['label'])"
   ]
  },
  {
   "cell_type": "code",
   "execution_count": 240,
   "id": "7e30f106",
   "metadata": {},
   "outputs": [],
   "source": [
    "value_file = 'valtargt.txt'\n",
    "value_df = pd.read_csv(value_file, delimiter=',', header=0)"
   ]
  },
  {
   "cell_type": "code",
   "execution_count": 241,
   "id": "9bc14cc9",
   "metadata": {},
   "outputs": [],
   "source": [
    "value_df = pd.concat([value_df, predictions_final], axis=1)"
   ]
  },
  {
   "cell_type": "code",
   "execution_count": 242,
   "id": "a81ddd67",
   "metadata": {},
   "outputs": [],
   "source": [
    "donor_df = value_df.loc[(value_df['label']=='1')]\n",
    "amount_donated = donor_df['TARGET_D'].sum()\n",
    "cost = donor_df.shape[0] * 0.68\n",
    "revenue = amount_donated - cost"
   ]
  },
  {
   "cell_type": "code",
   "execution_count": 243,
   "id": "5f89ea07",
   "metadata": {},
   "outputs": [],
   "source": [
    "max_amount_donated = value_df['TARGET_D'].sum()\n",
    "max_cost = value_df['TARGET_B'].sum() * 0.68\n",
    "max_revenue = max_amount_donated - max_cost"
   ]
  },
  {
   "cell_type": "code",
   "execution_count": 244,
   "id": "e8597e36",
   "metadata": {},
   "outputs": [],
   "source": [
    "ratio = revenue/max_revenue"
   ]
  },
  {
   "cell_type": "code",
   "execution_count": 245,
   "id": "6c6a0f4e",
   "metadata": {},
   "outputs": [
    {
     "data": {
      "text/plain": [
       "28696.0"
      ]
     },
     "execution_count": 245,
     "metadata": {},
     "output_type": "execute_result"
    }
   ],
   "source": [
    "amount_donated"
   ]
  },
  {
   "cell_type": "code",
   "execution_count": 246,
   "id": "f1020ce7",
   "metadata": {},
   "outputs": [
    {
     "data": {
      "text/plain": [
       "6617.079999999998"
      ]
     },
     "execution_count": 246,
     "metadata": {},
     "output_type": "execute_result"
    }
   ],
   "source": [
    "revenue"
   ]
  },
  {
   "cell_type": "code",
   "execution_count": 247,
   "id": "fa4bc9d9",
   "metadata": {},
   "outputs": [
    {
     "data": {
      "text/plain": [
       "22078.920000000002"
      ]
     },
     "execution_count": 247,
     "metadata": {},
     "output_type": "execute_result"
    }
   ],
   "source": [
    "cost"
   ]
  },
  {
   "cell_type": "code",
   "execution_count": 219,
   "id": "f71e0f88",
   "metadata": {},
   "outputs": [
    {
     "data": {
      "text/plain": [
       "3313.6400000000003"
      ]
     },
     "execution_count": 219,
     "metadata": {},
     "output_type": "execute_result"
    }
   ],
   "source": [
    "max_cost"
   ]
  },
  {
   "cell_type": "code",
   "execution_count": null,
   "id": "780a4bea",
   "metadata": {},
   "outputs": [],
   "source": []
  }
 ],
 "metadata": {
  "kernelspec": {
   "display_name": "Python 3",
   "language": "python",
   "name": "python3"
  },
  "language_info": {
   "codemirror_mode": {
    "name": "ipython",
    "version": 3
   },
   "file_extension": ".py",
   "mimetype": "text/x-python",
   "name": "python",
   "nbconvert_exporter": "python",
   "pygments_lexer": "ipython3",
   "version": "3.8.8"
  }
 },
 "nbformat": 4,
 "nbformat_minor": 5
}
